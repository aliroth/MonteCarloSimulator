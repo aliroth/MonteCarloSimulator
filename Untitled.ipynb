{
 "cells": [
  {
   "cell_type": "code",
   "execution_count": 70,
   "id": "3d0e09b4-d34a-4bd9-93eb-e76da37d41e5",
   "metadata": {},
   "outputs": [],
   "source": [
    "from MonteCarlo import MonteCarloSimulator as MC"
   ]
  },
  {
   "cell_type": "code",
   "execution_count": 71,
   "id": "df3b3b45-f90e-420a-aa32-07ef2679e2c1",
   "metadata": {},
   "outputs": [
    {
     "data": {
      "text/plain": [
       "'Error: value is not on die. Please enter a value on the die.'"
      ]
     },
     "execution_count": 71,
     "metadata": {},
     "output_type": "execute_result"
    }
   ],
   "source": [
    "coin = ['H', 'T']\n",
    "dieF = dieUF = MC.Die(coin)\n",
    "\n",
    "dieUF.change_weight('H', 5)"
   ]
  },
  {
   "cell_type": "code",
   "execution_count": null,
   "id": "f56278b3-e288-4c7c-8ed9-167505546f41",
   "metadata": {},
   "outputs": [],
   "source": []
  }
 ],
 "metadata": {
  "kernelspec": {
   "display_name": "Python 3 (ipykernel)",
   "language": "python",
   "name": "python3"
  },
  "language_info": {
   "codemirror_mode": {
    "name": "ipython",
    "version": 3
   },
   "file_extension": ".py",
   "mimetype": "text/x-python",
   "name": "python",
   "nbconvert_exporter": "python",
   "pygments_lexer": "ipython3",
   "version": "3.9.12"
  }
 },
 "nbformat": 4,
 "nbformat_minor": 5
}
