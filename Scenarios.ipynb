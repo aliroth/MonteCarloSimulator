{
 "cells": [
  {
   "cell_type": "markdown",
   "id": "b280fed5-01a8-4e2a-a474-f48e0060c328",
   "metadata": {},
   "source": [
    "# Scenario 1: A 2-headed coin"
   ]
  },
  {
   "cell_type": "code",
   "execution_count": 7,
   "id": "3d0e09b4-d34a-4bd9-93eb-e76da37d41e5",
   "metadata": {},
   "outputs": [
    {
     "ename": "IndentationError",
     "evalue": "unindent does not match any outer indentation level (MonteCarloSimulator.py, line 201)",
     "output_type": "error",
     "traceback": [
      "Traceback \u001b[1;36m(most recent call last)\u001b[0m:\n",
      "  File \u001b[0;32m~\\anaconda3\\lib\\site-packages\\IPython\\core\\interactiveshell.py:3369\u001b[0m in \u001b[0;35mrun_code\u001b[0m\n    exec(code_obj, self.user_global_ns, self.user_ns)\n",
      "\u001b[1;36m  Input \u001b[1;32mIn [7]\u001b[1;36m in \u001b[1;35m<cell line: 1>\u001b[1;36m\u001b[0m\n\u001b[1;33m    from MonteCarlo import MonteCarloSimulator as MC\u001b[0m\n",
      "\u001b[1;36m  File \u001b[1;32m~\\Documents\\MSDS\\DS5100\\MonteCarloSimulator\\MonteCarlo\\MonteCarloSimulator.py:201\u001b[1;36m\u001b[0m\n\u001b[1;33m    def __init__(self, game):\u001b[0m\n\u001b[1;37m                             ^\u001b[0m\n\u001b[1;31mIndentationError\u001b[0m\u001b[1;31m:\u001b[0m unindent does not match any outer indentation level\n"
     ]
    }
   ],
   "source": [
    "from MonteCarlo import MonteCarloSimulator as MC\n",
    "import pandas as pd"
   ]
  },
  {
   "cell_type": "code",
   "execution_count": null,
   "id": "df3b3b45-f90e-420a-aa32-07ef2679e2c1",
   "metadata": {},
   "outputs": [],
   "source": [
    "#create Die objects\n",
    "coin = ['H', 'T']\n",
    "coinUF = MC.Die(coin)\n",
    "coinF = MC.Die(coin)\n",
    "coinUF.change_weight('H', 5)\n",
    "\n",
    "#create Die lists to initiate games\n",
    "fair_coins = [coinF, coinF, coinF]\n",
    "unfair_coins = [coinF, coinUF, coinUF]\n",
    "\n",
    "#create Games\n",
    "game_fair = MC.Game(fair_coins)\n",
    "game_unfair = MC.Game(unfair_coins)\n",
    "\n",
    "#play games\n",
    "game_fair.play(1000)\n",
    "game_unfair.play(1000)\n",
    "\n",
    "#create Analyzers\n",
    "anz_fair = MC.Analyzer(game_fair)\n",
    "anz_unfair = MC.Analyzer(game_unfair)"
   ]
  },
  {
   "cell_type": "code",
   "execution_count": null,
   "id": "f56278b3-e288-4c7c-8ed9-167505546f41",
   "metadata": {},
   "outputs": [],
   "source": [
    "rel_freq = [anz_fair.jackpot()/1000, anz_unfair.jackpot()/1000]\n",
    "jackpot_df = pd.DataFrame(rel_freq, columns = ['relative frequency'], index = ['fair coin', 'unfair coin'])\n",
    "\n",
    "jackpot_df.plot.bar(title = \"Relative Frequency of Jackpots\")"
   ]
  },
  {
   "cell_type": "markdown",
   "id": "cc6240c6-4c06-4cda-a6a3-dbf73f93b996",
   "metadata": {},
   "source": [
    "# Scenario 2: A 6-sided die"
   ]
  },
  {
   "cell_type": "code",
   "execution_count": null,
   "id": "0366e6ed-d2ac-4f9e-9c9c-1e2330dae2b7",
   "metadata": {},
   "outputs": [],
   "source": [
    "die = [1, 2, 3, 4, 5, 6]\n",
    "dieUF1 = MC.Die(die)\n",
    "dieUF2 = MC.Die(die)\n",
    "dieF = MC.Die(die)\n",
    "\n",
    "dieUF1.change_weight(6, 5)\n",
    "dieUF2.change_weight(1, 5)\n",
    "\n",
    "#create Die lists to initiate games\n",
    "fair_dice = [dieF, dieF, dieF, dieF, dieF]\n",
    "unfair_dice = [dieUF1, dieUF1, dieUF2, dieF, dieF]\n",
    "\n",
    "#create Games\n",
    "game_fair = MC.Game(fair_dice)\n",
    "game_unfair = MC.Game(unfair_dice)\n",
    "\n",
    "#play games\n",
    "game_fair.play(10000)\n",
    "game_unfair.play(10000)\n",
    "\n",
    "#create Analyzers\n",
    "anz_fair = MC.Analyzer(game_fair)\n",
    "anz_unfair = MC.Analyzer(game_unfair)"
   ]
  },
  {
   "cell_type": "code",
   "execution_count": null,
   "id": "97e60819-2346-451a-b73f-e2e550e896a2",
   "metadata": {},
   "outputs": [],
   "source": [
    "rel_freq = [anz_fair.jackpot()/10000, anz_unfair.jackpot()/10000]\n",
    "jackpot_df = pd.DataFrame(rel_freq, columns = ['relative frequency'], index = ['fair die', 'unfair die'])\n",
    "\n",
    "jackpot_df.plot.bar(title = \"Relative Frequency of Jackpots\")"
   ]
  },
  {
   "cell_type": "code",
   "execution_count": null,
   "id": "99646c96-b5b1-45a7-899b-362cfdacefdc",
   "metadata": {},
   "outputs": [],
   "source": [
    "print(anz_fair.combo().head(10).plot.bar(title = \"Fair game combinations\"))\n",
    "print(anz_unfair.combo().head(10).plot.bar(title = \"Unfair game combinations\"))"
   ]
  },
  {
   "cell_type": "markdown",
   "id": "add674c7-0477-4def-a1c1-f11abc5f5d4d",
   "metadata": {
    "tags": []
   },
   "source": [
    "# Scenario 3: Letters of the Roman Alphabet"
   ]
  },
  {
   "cell_type": "code",
   "execution_count": null,
   "id": "4061f6a2-f81b-4107-bd6b-b14922b2765b",
   "metadata": {},
   "outputs": [],
   "source": [
    "alpha = ['a', 'b', 'c', 'd', 'e', 'f', 'g', 'h', 'i', 'j', 'k', 'l', 'm', 'n', 'o', 'p', 'q', 'r', 's', 't', 'u', 'v', 'w', 'x', 'y', 'z']\n",
    "alpha_die = MC.Die(alpha)\n",
    "\n",
    "alpha_die.change_weight('a', 8.4966)\n",
    "alpha_die.change_weight('b', 2.0720)\n",
    "alpha_die.change_weight('c', 4.5388)\n",
    "alpha_die.change_weight('d', 3.3844)\n",
    "alpha_die.change_weight('e', 11.1607)\n",
    "alpha_die.change_weight('f', 1.8121)\n",
    "alpha_die.change_weight('g', 2.4705)\n",
    "alpha_die.change_weight('h', 3.0034)\n",
    "alpha_die.change_weight('i', 7.5448)\n",
    "alpha_die.change_weight('j', 0.1965)\n",
    "alpha_die.change_weight('k', 1.1016)\n",
    "alpha_die.change_weight('l', 5.4893)\n",
    "alpha_die.change_weight('m', 3.0129)\n",
    "alpha_die.change_weight('n', 6.6544)\n",
    "alpha_die.change_weight('o', 7.1635)\n",
    "alpha_die.change_weight('p', 3.1671)\n",
    "alpha_die.change_weight('q', 0.1962)\n",
    "alpha_die.change_weight('r', 7.5809)\n",
    "alpha_die.change_weight('s', 5.7351)\n",
    "alpha_die.change_weight('t', 6.9509)\n",
    "alpha_die.change_weight('u', 3.6308)\n",
    "alpha_die.change_weight('v', 1.0074)\n",
    "alpha_die.change_weight('w', 1.2899)\n",
    "alpha_die.change_weight('x', 0.2902)\n",
    "alpha_die.change_weight('y', 1.7779)\n",
    "alpha_die.change_weight('z', 0.2722)\n",
    "\n",
    "alpha_list = [alpha_die, alpha_die, alpha_die, alpha_die, alpha_die]\n",
    "game = MC.Game(alpha_list)\n",
    "game.play(1000)\n",
    "\n",
    "anz = MC.Analyzer(game)"
   ]
  },
  {
   "cell_type": "code",
   "execution_count": null,
   "id": "968cd301-5e54-49fc-a5ba-d333ffc909ae",
   "metadata": {},
   "outputs": [],
   "source": [
    "results = anz.combo().index.values\n",
    "results_strings = []\n",
    "\n",
    "#change list of arrays into list of strings\n",
    "for r in results:\n",
    "    new = \"\"\n",
    "    for i in r:\n",
    "        new += i\n",
    "    results_strings.append(new)\n",
    "\n",
    "words = pd.read_csv(\"https://www-cs-faculty.stanford.edu/~knuth/sgb-words.txt\")\n",
    "\n",
    "#check if string is a word in list of scrabble words, put combos that are words into a dataframe\n",
    "results_words = []\n",
    "for j in results_strings:\n",
    "    if j in words.values:\n",
    "        results_words.append(j)\n",
    "        \n",
    "print(results_words)\n",
    "print(\"Relative frequency of enlgish words \" + str(len(results_words)/1000))"
   ]
  },
  {
   "cell_type": "code",
   "execution_count": null,
   "id": "0fdf9316-960d-401f-80bf-70df85509c16",
   "metadata": {},
   "outputs": [],
   "source": [
    "help(MC)"
   ]
  },
  {
   "cell_type": "code",
   "execution_count": null,
   "id": "3a8dc090-bd24-4d35-9c6b-b10cdc9e50e4",
   "metadata": {},
   "outputs": [],
   "source": []
  }
 ],
 "metadata": {
  "kernelspec": {
   "display_name": "Python 3 (ipykernel)",
   "language": "python",
   "name": "python3"
  },
  "language_info": {
   "codemirror_mode": {
    "name": "ipython",
    "version": 3
   },
   "file_extension": ".py",
   "mimetype": "text/x-python",
   "name": "python",
   "nbconvert_exporter": "python",
   "pygments_lexer": "ipython3",
   "version": "3.9.12"
  }
 },
 "nbformat": 4,
 "nbformat_minor": 5
}
