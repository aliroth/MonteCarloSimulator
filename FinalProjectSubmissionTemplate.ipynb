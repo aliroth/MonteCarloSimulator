{
 "cells": [
  {
   "cell_type": "markdown",
   "id": "45762487-d33f-486d-8e38-2cdea04e3528",
   "metadata": {},
   "source": [
    "# Metadata\n",
    "\n",
    "* Title: **Final Project Report**\n",
    "* Class: DS 5100\n",
    "* Date: 7/15/22\n",
    "* Student Name: Ali Roth\n",
    "* Student Net ID: wat6sv\n",
    "* This URL: <a URL to the notebook source of this document>\n",
    "* GitHub Repo URL: https://github.com/aliroth/MonteCarloSimulator"
   ]
  },
  {
   "cell_type": "markdown",
   "id": "d32cb273-9a40-4909-a7ce-51f6e4958d3c",
   "metadata": {},
   "source": [
    "# The Monte Carlo Module"
   ]
  },
  {
   "cell_type": "code",
   "execution_count": 1,
   "id": "a0743efc-a785-4b5c-a9e6-b65d4507a67f",
   "metadata": {},
   "outputs": [],
   "source": [
    "import pandas as pd\n",
    "import numpy as np\n",
    "\n",
    "class Die():\n",
    "    '''\n",
    "    A class to represent a 'die' and pull a random sample from the die. Die defaults to equal weights, or can be weighted to favor some values \n",
    "    more than others. \n",
    "\n",
    "        Attributes: \n",
    "        ----------\n",
    "        face (np.array) : an array of strings or numbers that represent the faces of die\n",
    "        weight (np.array(float)) : an array of weights for corresponding faces. Default 1.0, can be change with change_weight()\n",
    "\n",
    "        Methods:\n",
    "        --------\n",
    "        change_weight(face_val, new_weight) \n",
    "            changes the weight of the indicated face\n",
    "\n",
    "        roll(num_rolls = 1)\n",
    "            returns a weighted random sample of rolls from the faces with replacement \n",
    "\n",
    "        show_die()\n",
    "            returns the dataframe with the current face and weight values\n",
    "    '''\n",
    "    def __init__(self, faces):\n",
    "        '''\n",
    "        Constructs all the necessary attributes for the die object.\n",
    "\n",
    "        Parameters\n",
    "        ----------\n",
    "            faces : np.array(str or int)\n",
    "                array of string or integer values of die \"faces\"/\"sides\"         \n",
    "        '''\n",
    "        self.faces = np.array(faces)\n",
    "        self._die_df_ = pd.DataFrame()\n",
    "        self._die_df_[\"face\"] = self.faces\n",
    "        self._die_df_['weight'] = 1.0\n",
    "        \n",
    "    def change_weight(self, face_val, new_weight):\n",
    "        '''\n",
    "        Changes the weighting of the indicated face.\n",
    "\n",
    "        Parameters\n",
    "        ----------\n",
    "            face_val : str or int\n",
    "                face to have weight changed\n",
    "            new_weight : float\n",
    "                new weight for face_val\n",
    "        Returns\n",
    "        -------\n",
    "            None\n",
    "        '''\n",
    "        ##parameter errors\n",
    "        if face_val not in self._die_df_.face.values:\n",
    "            return \"Error: value is not on die. Please enter a face value on the die.\"\n",
    "        else:\n",
    "            next\n",
    "        if type(new_weight) != 'float' and type(new_weight) != 'int':\n",
    "            float(new_weight)\n",
    "        \n",
    "        ##replace entire row with face_val and new weight\n",
    "        idx = self._die_df_.index[self._die_df_['face'] == face_val]\n",
    "        self._die_df_.loc[idx, ['face', 'weight']] = [face_val, new_weight]\n",
    "        \n",
    "        \n",
    "    def roll(self, num_rolls = 1):\n",
    "        '''\n",
    "        Creates a weighted random sample of size num_rolls from the faces of the die with replacement.\n",
    "\n",
    "        Parameters\n",
    "        ----------\n",
    "            num_rolls : int\n",
    "                number of times the die is to be rolled. default = 1\n",
    "        Returns\n",
    "        -------\n",
    "            Dataframe containing results of random sample\n",
    "        '''\n",
    "        ##random sample\n",
    "        return list(self._die_df_.sample(num_rolls, weights = self._die_df_[:][\"weight\"], replace = True))\n",
    "    \n",
    "    def show_die(self):\n",
    "        '''\n",
    "        Shows current faces and weights on die.\n",
    "\n",
    "        Parameters\n",
    "        ----------\n",
    "            None\n",
    "\n",
    "        Returns\n",
    "        -------\n",
    "        _die_df_ (pd.DataFrame) : Dataframe containing current face and weight values.\n",
    "        '''\n",
    "        return self._die_df_\n",
    "\n",
    "class Game():\n",
    "    '''\n",
    "    A class to represent a game where 1 or more die are rolled. \n",
    "\n",
    "        Attributes: \n",
    "        ----------\n",
    "            dice (list(Die objects)) : a list of already initiated Die objects\n",
    "\n",
    "        Methods:\n",
    "        --------\n",
    "            play(rolls) \n",
    "                rolls the die in dice rolls number of times\n",
    "\n",
    "            show_game(show = \"wide\")\n",
    "                returns a dataframe of the most recent play in a wide (default) or narrow format\n",
    "    '''\n",
    "\n",
    "    def __init__(self, dice):\n",
    "        '''\n",
    "        Constructs all the necessary attributes for the Game object. Checks that all die have the same number of faces\n",
    "\n",
    "        Parameters\n",
    "        ----------\n",
    "            dice : list(Die objects)\n",
    "                a list of already initiated Die objects - all Die must have the same number of faces        \n",
    "        '''        \n",
    "        self.dice = dice\n",
    "        \n",
    "        #checks to make sure that all die have same number of faces\n",
    "        faces = len(dice[0].show_die())\n",
    "        self._play_df_ = pd.DataFrame()\n",
    "        for d in dice:\n",
    "            if len(d.show_die()) != faces:\n",
    "                print(\"Error: dice must have the same number of faces.\")\n",
    "\n",
    "    def play(self, rolls):\n",
    "        '''\n",
    "        Rolls all of the die in the dice list. Saves results in a private dataframe.\n",
    "\n",
    "        Parameters\n",
    "        ----------\n",
    "            rolls : int\n",
    "                number of times each die is to be rolled\n",
    "\n",
    "        Returns\n",
    "        -------\n",
    "            None\n",
    "        '''\n",
    "        self._play_df_ = pd.DataFrame()\n",
    "        i = 1\n",
    "        \n",
    "        ##roll each die and add values to dataframe \n",
    "        for die in self.dice:\n",
    "            temp = pd.DataFrame({\"die\" + str(i): die.roll(num_rolls = rolls)})\n",
    "            temp = temp.reset_index(drop = True)\n",
    "            self._play_df_ = pd.concat([self._play_df_, temp], axis = 1)\n",
    "            i+= 1\n",
    "        \n",
    "        ##change indexing to start @1 and name roll\n",
    "        self._play_df_.index = np.arange(1, len(self._play_df_) + 1)\n",
    "        self._play_df_.index.rename(\"roll\", inplace = True)\n",
    "    \n",
    "    def show_game(self, show = \"wide\"):\n",
    "        '''\n",
    "        Shows results of the most recent play in a dataframe. Can be displayed as a wide table (default) or a narrow table.\n",
    "\n",
    "        Parameters\n",
    "        ----------\n",
    "            show : str\n",
    "                \"wide\" or \"narrow\", default = \"wide\"\n",
    "\n",
    "        Returns\n",
    "        -------\n",
    "            _play_df_ (pd.DataFrame) : Dataframe containing results of most recent play.\n",
    "        '''\n",
    "        ##pass dataframe to user in narrow or wide format\n",
    "        if show == \"narrow\":\n",
    "            print_df = self._play_df_.copy()\n",
    "            print_df = print_df.stack().to_frame(\"faces\")\n",
    "            return print_df\n",
    "        elif show == \"wide\":\n",
    "            return self._play_df_\n",
    "        \n",
    "        ##print error message if invalid parameter is passed\n",
    "        else:\n",
    "            return 'Error: enter a valid table type, \"narrow\" or \"wide\".'\n",
    "        \n",
    "class Analyzer():\n",
    "    '''\n",
    "    A class to analyze the a Game object where 1 or more Die objects are rolled to create a random sample.\n",
    "\n",
    "    Attributes: \n",
    "    ----------\n",
    "        game (Game) : a Game object that has been played\n",
    "\n",
    "    Methods:\n",
    "    --------\n",
    "        jackpot() \n",
    "            returns the number of times all die roll the same value\n",
    "\n",
    "        combo()\n",
    "            returns a dataframe with all the combinations of face values rolled and the counts for each\n",
    "\n",
    "        face_counts_per_roll()\n",
    "            returns a dataframe with a count for each face on each roll\n",
    "    '''    \n",
    "    def __init__(self, game):\n",
    "        '''\n",
    "        Constructs all the necessary attributes for the Analyzer object.\n",
    "\n",
    "        Parameters\n",
    "        ----------\n",
    "            game : Game object\n",
    "                a Game object that has been played to be analyzed        \n",
    "        '''\n",
    "        self.game = game\n",
    "        die_type = type(self.game.dice[:])\n",
    "        self.face_df = pd.DataFrame()\n",
    "        \n",
    "    def jackpot(self):\n",
    "        '''\n",
    "        Determines the number of \"jackpots\" in a roll - where all die roll the same face value. Returns the number of jackpots in the game.\n",
    "\n",
    "        Parameters\n",
    "        ----------\n",
    "            None\n",
    "\n",
    "        Returns\n",
    "        -------\n",
    "            int : number of jackpots rolled in game\n",
    "        '''\n",
    "        jackpot_df = self.game.show_game()\n",
    "        jackpot_results = pd.DataFrame()\n",
    "        \n",
    "        ##grab each row of dataframe\n",
    "        for i in jackpot_df.index.values:\n",
    "            x = jackpot_df.loc[i].to_list()\n",
    "            val = x[0]\n",
    "            \n",
    "            ##check if values in row e the same\n",
    "            for X in x:\n",
    "                if val == X:\n",
    "                    result = True\n",
    "                else:\n",
    "                    result = False\n",
    "                    break\n",
    "            \n",
    "            ##add \"jackpot\" rows with all the same value to new dataframe\n",
    "            if result == True:\n",
    "                x_df = pd.DataFrame(x).T\n",
    "                jackpot_results = pd.concat([jackpot_results, x_df], axis = 0)\n",
    "        \n",
    "        ##change indexing to start @1 and name roll\n",
    "        jackpot_results.index = np.arange(1, len(jackpot_results) + 1)\n",
    "        jackpot_results.index.rename(\"roll\", inplace = True)\n",
    "        \n",
    "        ##return number of jackpots to the user\n",
    "        return len(jackpot_results) \n",
    "        \n",
    "    def combo(self):\n",
    "        '''\n",
    "        Returns a dataframe with all combinations of face values rolled and cooresponding counts for each combination.\n",
    "\n",
    "        Parameters\n",
    "        ----------\n",
    "            None\n",
    "\n",
    "        Returns\n",
    "        -------\n",
    "            face_df (pd.DataFrame) : combinations of face values and counts\n",
    "        '''\n",
    "        ##shows count of combinations rolled\n",
    "        self.face_df = self.game._play_df_.apply(lambda x: pd.Series(sorted(x)), 1)\\\n",
    "         .value_counts()\\\n",
    "         .to_frame('count')\n",
    "        \n",
    "        return self.face_df\n",
    "    def face_counts_per_roll(self):\n",
    "        '''\n",
    "        Returns a dataframe with number or times each face value was rolled in each roll.\n",
    "\n",
    "        Parameters\n",
    "        ----------\n",
    "            None\n",
    "\n",
    "        Returns\n",
    "        -------\n",
    "            f_count (pd.DataFrame) : count of each face value for each roll\n",
    "        '''\n",
    "        #counts how many times each face was rolled per roll\n",
    "        self.f_count = self.game.show_game().apply(pd.Series.value_counts, axis=1).fillna(0).astype(int)\n",
    "        \n",
    "        return self.f_count"
   ]
  },
  {
   "cell_type": "markdown",
   "id": "4c81c4f0-b6ff-46ab-ba2c-9de7f0179715",
   "metadata": {},
   "source": [
    "# Test Module"
   ]
  },
  {
   "cell_type": "code",
   "execution_count": 4,
   "id": "14b878d8-258b-4cf2-ad88-b8ee90d43977",
   "metadata": {
    "collapsed": true,
    "jupyter": {
     "outputs_hidden": true
    },
    "tags": []
   },
   "outputs": [
    {
     "name": "stderr",
     "output_type": "stream",
     "text": [
      "C:\\Users\\alexa\\AppData\\Roaming\\jupyter\\runtime\\kernel-89b46db0-28e6-4f6e-97de-58a1904c36e7 (unittest.loader._FailedTest) ... ERROR\n",
      "\n",
      "======================================================================\n",
      "ERROR: C:\\Users\\alexa\\AppData\\Roaming\\jupyter\\runtime\\kernel-89b46db0-28e6-4f6e-97de-58a1904c36e7 (unittest.loader._FailedTest)\n",
      "----------------------------------------------------------------------\n",
      "AttributeError: module '__main__' has no attribute 'C:\\Users\\alexa\\AppData\\Roaming\\jupyter\\runtime\\kernel-89b46db0-28e6-4f6e-97de-58a1904c36e7'\n",
      "\n",
      "----------------------------------------------------------------------\n",
      "Ran 1 test in 0.009s\n",
      "\n",
      "FAILED (errors=1)\n"
     ]
    },
    {
     "ename": "SystemExit",
     "evalue": "True",
     "output_type": "error",
     "traceback": [
      "An exception has occurred, use %tb to see the full traceback.\n",
      "\u001b[1;31mSystemExit\u001b[0m\u001b[1;31m:\u001b[0m True\n"
     ]
    },
    {
     "name": "stderr",
     "output_type": "stream",
     "text": [
      "C:\\Users\\alexa\\anaconda3\\lib\\site-packages\\IPython\\core\\interactiveshell.py:3377: UserWarning: To exit: use 'exit', 'quit', or Ctrl-D.\n",
      "  warn(\"To exit: use 'exit', 'quit', or Ctrl-D.\", stacklevel=1)\n"
     ]
    }
   ],
   "source": [
    "# A code block with your test code.\n",
    "from MonteCarlo import MonteCarlo as MC\n",
    "import pandas as pd\n",
    "import unittest\n",
    "\n",
    "class MonteCarloSimulatorTestSuite(unittest.TestCase):\n",
    "    '''\n",
    "    Simple unit tests for the MonteCarloSimulator package. One unit test per method for all classes.\n",
    "\n",
    "    Tests\n",
    "    -----\n",
    "        test_change_weight()\n",
    "            creates a Die objects and changes the weight of the first face value. Checks that the new weight is in the dataframe.\n",
    "\n",
    "        test_roll()\n",
    "            creates a Die object and rolls using the default number of rolls (1). Checks that the method returns a dataframe of length 1.\n",
    "\n",
    "        test_show_die()\n",
    "            creates a Die object with 3 face values. Checks that the method returns a dataframe of shape 3 rows (face values) x 2 columns (face values and weights).\n",
    "\n",
    "        test_play()\n",
    "            creates a Game object with 3 Die objects and plays the Game with 3 rolls. Checks that the method returns a dataframe of shape 3 rows (rolls) x 3 columns (number of dice).\n",
    "\n",
    "        test_show_game()\n",
    "            creates a Game object with 3 Die objects and plays the Game with 3 rolls. Checks that the method returns a dataframe of shape 3 rows (rolls) x 3 columns (number of dice) when \"wide\" parameter is passed \n",
    "            and a dataframe of shape 9 rows (rolls of all 3 Die) x 1 column (face value rolled) when the \"narrow\" parameter is passed.\n",
    "\n",
    "        test_jackpot()\n",
    "            creates an Analyzer object with a Game where each roll results in a jackpot. creates an Analyzer object with a Game where no roll results in jackpot. Checks that the first method returns the number of \n",
    "            rolls and the second method returns 0.\n",
    "\n",
    "        test_combo()\n",
    "            creates an Analyzer object with a Game where each roll results in the same combination of face values. Checks that the data frame returned has 1 row.\n",
    "\n",
    "        test_face_counts_per_roll()\n",
    "            creates an Analyzer object with a Game where each roll results in the same combination of face values. Checks that the data frame returned has 1 column.\n",
    "    '''\n",
    "    \n",
    "    def test_change_weight(self):\n",
    "        '''\n",
    "        Creates a Die objects and changes the weight of the first face value. \n",
    "        Returns True if the new weight is in the dataframe at the position of the face value invoked.\n",
    "        '''\n",
    "        vals = [1, 2, 3]\n",
    "        die = MC.Die(vals)\n",
    "        \n",
    "        die.change_weight(1, 2)\n",
    "        msg = \"weight was not changed\"\n",
    "        self.assertTrue(die.show_die().iloc[0][1] == 2, msg)\n",
    "        \n",
    "    def test_roll(self):\n",
    "        '''\n",
    "        Creates a Die object and rolls using the default number of rolls (1). \n",
    "        Returns True if the method returns a dataframe of length 1.\n",
    "        '''\n",
    "        vals = [1, 2, 3]\n",
    "        die = MC.Die(vals)\n",
    "        \n",
    "        msg = \"die was not correctly rolled\"\n",
    "        self.assertTrue(len(die.roll()) == 1, msg)\n",
    "        \n",
    "    def test_show_die(self):\n",
    "        '''\n",
    "        Creates a Die object with 3 face values. \n",
    "        Returns True if the method returns a dataframe of shape 3 rows (face values) x 2 columns (face values and weights).\n",
    "        '''\n",
    "        vals = [1, 2, 3]\n",
    "        die = MC.Die(vals)\n",
    "        \n",
    "        msg = \"data frame was not correctly generated\"\n",
    "        self.assertTrue(die.show_die().shape == (3,2), msg)\n",
    "        \n",
    "    def test_play(self):\n",
    "        '''\n",
    "        Creates a Game object with 3 Die objects and plays the Game with 3 rolls. \n",
    "        Retruns True if the method returns a dataframe of shape 3 rows (rolls) x 3 columns (number of dice).\n",
    "        '''\n",
    "        vals = [1, 2, 3]\n",
    "        die = MC.Die(vals)\n",
    "        dice = [die, die, die]\n",
    "        \n",
    "        game = MC.Game(dice)\n",
    "        game.play(3)\n",
    "        msg = \"data frame was not correctly generated\"\n",
    "        self.assertTrue(game.show_game().shape == (3,3), msg)\n",
    "        \n",
    "    def test_show_game(self):\n",
    "        '''\n",
    "        creates a Game object with 3 Die objects and plays the Game with 3 rolls. \n",
    "        Returns True if the method returns a dataframe of shape 3 rows (rolls) x 3 columns (number of dice) when \"wide\" parameter is passed and a dataframe of shape 9 rows (rolls of all 3 Die) x 1 column (face \n",
    "        value rolled) when the \"narrow\" parameter is passed.\n",
    "        '''\n",
    "        vals = [1, 2, 3]\n",
    "        die = MC.Die(vals)\n",
    "        dice = [die, die, die]\n",
    "        \n",
    "        game = MC.Game(dice)\n",
    "        game.play(3)\n",
    "        msg = \"data frame was not correctly generated\"\n",
    "        self.assertTrue(game.show_game('wide').shape == (3,3) and game.show_game(\"narrow\").shape == (9,1), msg)\n",
    "        \n",
    "    def test_jackpot(self):\n",
    "        '''\n",
    "        Creates an Analyzer object with a Game where each roll results in a jackpot. Creates an Analyzer object with a Game where no roll results in jackpot. \n",
    "        Returns True if the first method returns the number of rolls and the second method returns 0.\n",
    "        '''\n",
    "        vals1 = [1, 1]\n",
    "        die1 = MC.Die(vals1)\n",
    "        dice1 = [die1, die1]\n",
    "        game1 = MC.Game(dice1)\n",
    "        game1.play(3)\n",
    "        \n",
    "        vals2 = [2, 2]\n",
    "        die2 = MC.Die(vals2)\n",
    "        dice2 = [die1, die2]\n",
    "        game2 = MC.Game(dice2)\n",
    "        game2.play(3)\n",
    "        \n",
    "        anz1 = MC.Analyzer(game1)\n",
    "        anz2 = MC.Analyzer(game2)\n",
    "        \n",
    "        jp1 = anz1.jackpot()\n",
    "        jp2 = anz2.jackpot()\n",
    "        \n",
    "        \n",
    "        msg = \"jackpot does not calculate correctly\"\n",
    "        self.assertTrue(jp1 == 3 and jp2 == 0, msg)\n",
    "    \n",
    "    def test_combo(self):\n",
    "        '''\n",
    "        Creates an Analyzer object with a Game where each roll results in the same combination of face values. \n",
    "        Returns True if the data frame returned has a length of 1.\n",
    "        '''\n",
    "        vals = [1, 1, 1]\n",
    "        die = MC.Die(vals)\n",
    "        dice = [die, die, die]\n",
    "        \n",
    "        game = MC.Game(dice)\n",
    "        game.play(3)\n",
    "        \n",
    "        anz = MC.Analyzer(game)\n",
    "        msg = \"combo does not calculate correctly\"\n",
    "        self.assertTrue(len(anz.combo()) == 1, msg)\n",
    "\n",
    "    def test_face_counts_per_roll(self):\n",
    "        '''\n",
    "        Creates an Analyzer object with a Game where each roll results in the same combination of face values. \n",
    "        Returns True if the data frame returned has 1 column.\n",
    "        '''\n",
    "        vals = [1, 1, 1]\n",
    "        die = MC.Die(vals)\n",
    "        dice = [die, die, die]\n",
    "\n",
    "        game = MC.Game(dice)\n",
    "        game.play(3)\n",
    "\n",
    "        anz = MC.Analyzer(game)\n",
    "        msg = \"face_counts_per_roll does not calculate correctly\"\n",
    "        self.assertTrue(len(anz.face_counts_per_roll().columns.values) == 1, msg)\n",
    "        \n",
    "if __name__ == '__main__':\n",
    "\n",
    "    unittest.main(verbosity=3)"
   ]
  },
  {
   "cell_type": "markdown",
   "id": "3c2b90b6-ac8b-43fa-a069-cb5b0b22aee0",
   "metadata": {},
   "source": [
    "# Test Results"
   ]
  },
  {
   "cell_type": "code",
   "execution_count": null,
   "id": "cc1170e1-0b41-4553-b25e-b406480c927f",
   "metadata": {},
   "outputs": [],
   "source": [
    "# A text block with the output of a successful test.\n",
    "test_change_weight (__main__.MonteCarloSimulatorTestSuite) ... ok\n",
    "test_combo (__main__.MonteCarloSimulatorTestSuite) ... ok\n",
    "test_face_counts_per_roll (__main__.MonteCarloSimulatorTestSuite) ... ok\n",
    "test_jackpot (__main__.MonteCarloSimulatorTestSuite) ... ok\n",
    "test_play (__main__.MonteCarloSimulatorTestSuite) ... ok\n",
    "test_roll (__main__.MonteCarloSimulatorTestSuite) ... ok\n",
    "test_show_die (__main__.MonteCarloSimulatorTestSuite) ... ok\n",
    "test_show_game (__main__.MonteCarloSimulatorTestSuite) ... ok\n",
    "\n",
    "----------------------------------------------------------------------\n",
    "Ran 8 tests in 0.043s\n",
    "\n",
    "OK"
   ]
  },
  {
   "cell_type": "markdown",
   "id": "7c44695d-d1b3-4edf-9f94-e64d7446f199",
   "metadata": {},
   "source": [
    "# Scenarios\n",
    "\n",
    "Code blocks with your scenarios and their outputs. \n",
    "\n",
    "These should have appropriate import statements even though the code is now in the same notebook as the classes it calls. "
   ]
  },
  {
   "cell_type": "markdown",
   "id": "90b7abd8-f4a7-4d71-bc9a-746640516b98",
   "metadata": {},
   "source": [
    "## Scenario 1"
   ]
  },
  {
   "cell_type": "code",
   "execution_count": 2,
   "id": "815eae36-4357-442a-894e-d056ebb8f998",
   "metadata": {},
   "outputs": [],
   "source": [
    "# Code blocks with output\n",
    "from MonteCarlo import MonteCarlo as MC\n",
    "import pandas as pd"
   ]
  },
  {
   "cell_type": "code",
   "execution_count": 3,
   "id": "c145ad00-7a37-4bb5-ab78-c5904fc27d39",
   "metadata": {},
   "outputs": [],
   "source": [
    "coin = ['H', 'T']\n",
    "coinUF = MC.Die(coin)\n",
    "coinF = MC.Die(coin)\n",
    "coinUF.change_weight('H', 5)\n",
    "\n",
    "#create Die lists to initiate games\n",
    "fair_coins = [coinF, coinF, coinF]\n",
    "unfair_coins = [coinF, coinUF, coinUF]\n",
    "\n",
    "#create Games\n",
    "game_fair = MC.Game(fair_coins)\n",
    "game_unfair = MC.Game(unfair_coins)\n",
    "\n",
    "#play games\n",
    "game_fair.play(1000)\n",
    "game_unfair.play(1000)\n",
    "\n",
    "#create Analyzers\n",
    "anz_fair = MC.Analyzer(game_fair)\n",
    "anz_unfair = MC.Analyzer(game_unfair)"
   ]
  },
  {
   "cell_type": "code",
   "execution_count": 4,
   "id": "aa14de3b-3d6f-48b4-a499-f486bb6b80cf",
   "metadata": {},
   "outputs": [
    {
     "data": {
      "text/plain": [
       "<AxesSubplot:title={'center':'Relative Frequency of Jackpots'}>"
      ]
     },
     "execution_count": 4,
     "metadata": {},
     "output_type": "execute_result"
    },
    {
     "data": {
      "image/png": "[encoded data removed]",
      "text/plain": [
       "<Figure size 432x288 with 1 Axes>"
      ]
     },
     "metadata": {
      "needs_background": "light"
     },
     "output_type": "display_data"
    }
   ],
   "source": [
    "rel_freq = [anz_fair.jackpot()/1000, anz_unfair.jackpot()/1000]\n",
    "jackpot_df = pd.DataFrame(rel_freq, columns = ['relative frequency'], index = ['fair coin', 'unfair coin'])\n",
    "\n",
    "jackpot_df.plot.bar(title = \"Relative Frequency of Jackpots\")"
   ]
  },
  {
   "cell_type": "markdown",
   "id": "92793a09-0024-465d-b272-2ef8b9a6c21c",
   "metadata": {},
   "source": [
    "## Scenario 2"
   ]
  },
  {
   "cell_type": "code",
   "execution_count": 5,
   "id": "7218e98e-6ec0-4766-8793-5b386ce6ee24",
   "metadata": {
    "tags": []
   },
   "outputs": [],
   "source": [
    "# Code blocks with output\n",
    "die = [1, 2, 3, 4, 5, 6]\n",
    "dieUF1 = MC.Die(die)\n",
    "dieUF2 = MC.Die(die)\n",
    "dieF = MC.Die(die)\n",
    "\n",
    "dieUF1.change_weight(6, 5)\n",
    "dieUF2.change_weight(1, 5)\n",
    "\n",
    "#create Die lists to initiate games\n",
    "fair_dice = [dieF, dieF, dieF, dieF, dieF]\n",
    "unfair_dice = [dieUF1, dieUF1, dieUF2, dieF, dieF]\n",
    "\n",
    "#create Games\n",
    "game_fair = MC.Game(fair_dice)\n",
    "game_unfair = MC.Game(unfair_dice)\n",
    "\n",
    "#play games\n",
    "game_fair.play(10000)\n",
    "game_unfair.play(10000)\n",
    "\n",
    "#create Analyzers\n",
    "anz_fair = MC.Analyzer(game_fair)\n",
    "anz_unfair = MC.Analyzer(game_unfair)"
   ]
  },
  {
   "cell_type": "code",
   "execution_count": 6,
   "id": "01e69741-847a-4969-880f-f3a305e36176",
   "metadata": {},
   "outputs": [
    {
     "data": {
      "text/plain": [
       "<AxesSubplot:title={'center':'Relative Frequency of Jackpots'}>"
      ]
     },
     "execution_count": 6,
     "metadata": {},
     "output_type": "execute_result"
    },
    {
     "data": {
      "image/png": "[encoded data removed]",
      "text/plain": [
       "<Figure size 432x288 with 1 Axes>"
      ]
     },
     "metadata": {
      "needs_background": "light"
     },
     "output_type": "display_data"
    }
   ],
   "source": [
    "rel_freq = [anz_fair.jackpot()/10000, anz_unfair.jackpot()/10000]\n",
    "jackpot_df = pd.DataFrame(rel_freq, columns = ['relative frequency'], index = ['fair die', 'unfair die'])\n",
    "\n",
    "jackpot_df.plot.bar(title = \"Relative Frequency of Jackpots\")"
   ]
  },
  {
   "cell_type": "code",
   "execution_count": 7,
   "id": "fbf3b335-aed8-43a5-b6d7-776f793b19c7",
   "metadata": {},
   "outputs": [
    {
     "name": "stdout",
     "output_type": "stream",
     "text": [
      "AxesSubplot(0.125,0.125;0.775x0.755)\n",
      "AxesSubplot(0.125,0.125;0.775x0.755)\n"
     ]
    },
    {
     "data": {
      "image/png": "[encoded data removed]",
      "text/plain": [
       "<Figure size 432x288 with 1 Axes>"
      ]
     },
     "metadata": {
      "needs_background": "light"
     },
     "output_type": "display_data"
    },
    {
     "data": {
      "image/png": "[encoded data removed]",
      "text/plain": [
       "<Figure size 432x288 with 1 Axes>"
      ]
     },
     "metadata": {
      "needs_background": "light"
     },
     "output_type": "display_data"
    }
   ],
   "source": [
    "print(anz_fair.combo().head(10).plot.bar(title = \"Fair game combinations\"))\n",
    "print(anz_unfair.combo().head(10).plot.bar(title = \"Unfair game combinations\"))"
   ]
  },
  {
   "cell_type": "markdown",
   "id": "1b47f5b6-188d-4d24-9c2f-687b430e6624",
   "metadata": {},
   "source": [
    "## Scenario 3"
   ]
  },
  {
   "cell_type": "code",
   "execution_count": 8,
   "id": "ad6d2878-f832-4065-98a3-1ea78ff0a6d3",
   "metadata": {},
   "outputs": [],
   "source": [
    "# Code blocks with output\n",
    "alpha = ['a', 'b', 'c', 'd', 'e', 'f', 'g', 'h', 'i', 'j', 'k', 'l', 'm', 'n', 'o', 'p', 'q', 'r', 's', 't', 'u', 'v', 'w', 'x', 'y', 'z']\n",
    "alpha_die = MC.Die(alpha)\n",
    "\n",
    "alpha_die.change_weight('a', 8.4966)\n",
    "alpha_die.change_weight('b', 2.0720)\n",
    "alpha_die.change_weight('c', 4.5388)\n",
    "alpha_die.change_weight('d', 3.3844)\n",
    "alpha_die.change_weight('e', 11.1607)\n",
    "alpha_die.change_weight('f', 1.8121)\n",
    "alpha_die.change_weight('g', 2.4705)\n",
    "alpha_die.change_weight('h', 3.0034)\n",
    "alpha_die.change_weight('i', 7.5448)\n",
    "alpha_die.change_weight('j', 0.1965)\n",
    "alpha_die.change_weight('k', 1.1016)\n",
    "alpha_die.change_weight('l', 5.4893)\n",
    "alpha_die.change_weight('m', 3.0129)\n",
    "alpha_die.change_weight('n', 6.6544)\n",
    "alpha_die.change_weight('o', 7.1635)\n",
    "alpha_die.change_weight('p', 3.1671)\n",
    "alpha_die.change_weight('q', 0.1962)\n",
    "alpha_die.change_weight('r', 7.5809)\n",
    "alpha_die.change_weight('s', 5.7351)\n",
    "alpha_die.change_weight('t', 6.9509)\n",
    "alpha_die.change_weight('u', 3.6308)\n",
    "alpha_die.change_weight('v', 1.0074)\n",
    "alpha_die.change_weight('w', 1.2899)\n",
    "alpha_die.change_weight('x', 0.2902)\n",
    "alpha_die.change_weight('y', 1.7779)\n",
    "alpha_die.change_weight('z', 0.2722)\n",
    "\n",
    "alpha_list = [alpha_die, alpha_die, alpha_die, alpha_die, alpha_die]\n",
    "game = MC.Game(alpha_list)\n",
    "game.play(1000)\n",
    "\n",
    "anz = MC.Analyzer(game)"
   ]
  },
  {
   "cell_type": "code",
   "execution_count": 9,
   "id": "8799bc00-e104-4183-8796-c574322d4197",
   "metadata": {},
   "outputs": [
    {
     "name": "stdout",
     "output_type": "stream",
     "text": [
      "['adept', 'floss']\n",
      "Relative frequency of enlgish words 0.002\n"
     ]
    }
   ],
   "source": [
    "results = anz.combo().index.values\n",
    "results_strings = []\n",
    "\n",
    "#change list of arrays into list of strings\n",
    "for r in results:\n",
    "    new = \"\"\n",
    "    for i in r:\n",
    "        new += i\n",
    "    results_strings.append(new)\n",
    "\n",
    "words = pd.read_csv(\"https://www-cs-faculty.stanford.edu/~knuth/sgb-words.txt\")\n",
    "\n",
    "#check if string is a word in list of scrabble words, put combos that are words into a dataframe\n",
    "results_words = []\n",
    "for j in results_strings:\n",
    "    if j in words.values:\n",
    "        results_words.append(j)\n",
    "        \n",
    "print(results_words)\n",
    "print(\"Relative frequency of enlgish words \" + str(len(results_words)/1000))"
   ]
  },
  {
   "cell_type": "markdown",
   "id": "6ced706c-19e7-4e79-b171-bfb076f822b4",
   "metadata": {},
   "source": [
    "# Directory Listing\n",
    "\n",
    "A code block that executes the following bash command: \n",
    "\n",
    "```bash\n",
    "!ls -lRF -o\n",
    "```"
   ]
  },
  {
   "cell_type": "code",
   "execution_count": 16,
   "id": "5dbd35c2-e479-4179-b792-997d4293ba96",
   "metadata": {},
   "outputs": [
    {
     "name": "stdout",
     "output_type": "stream",
     "text": [
      " Volume in drive C is Local Disk\n",
      " Volume Serial Number is C0DD-116E\n",
      "\n",
      " Directory of C:\\Users\\alexa\\Documents\\MSDS\\DS5100\\MonteCarloSimulator\n",
      "\n",
      "07/14/2022  09:45 PM    <DIR>          .\n",
      "07/14/2022  09:31 PM    <DIR>          ..\n",
      "07/12/2022  11:19 PM             1,928 .gitignore\n",
      "07/14/2022  09:13 PM    <DIR>          .ipynb_checkpoints\n",
      "07/14/2022  09:16 PM            83,897 FinalProjectSubmissionTemplate.ipynb\n",
      "07/12/2022  11:19 PM             1,085 LICENSE\n",
      "07/14/2022  09:40 PM    <DIR>          MonteCarlo\n",
      "07/14/2022  09:10 PM    <DIR>          MonteCarlo.egg-info\n",
      "07/14/2022  09:15 PM            54,502 montecarlo_demo.ipynb\n",
      "07/13/2022  09:19 PM               591 MonteCarloSimulator_testresults.txt\n",
      "07/14/2022  09:15 PM             6,264 MonteCarloSimulatorTestSuite.py\n",
      "07/14/2022  09:45 PM             8,793 README.md\n",
      "07/14/2022  09:16 PM               348 setup.py\n",
      "               8 File(s)        157,408 bytes\n",
      "               5 Dir(s)  131,357,118,464 bytes free\n"
     ]
    }
   ],
   "source": [
    "ls"
   ]
  },
  {
   "cell_type": "markdown",
   "id": "c4df835c-3cd7-4c74-a4de-51638607680b",
   "metadata": {
    "tags": []
   },
   "source": [
    "# Installation Output Listing\n",
    "    \n",
    "A code block that executes the code to install your your package and outputs a successful installation."
   ]
  },
  {
   "cell_type": "code",
   "execution_count": null,
   "id": "3609769a-c338-4746-8607-d124caf76ed8",
   "metadata": {},
   "outputs": [],
   "source": [
    "# Installation commands"
   ]
  },
  {
   "cell_type": "code",
   "execution_count": 15,
   "id": "3f8d0ced-8841-4357-bda1-151880cf91a0",
   "metadata": {},
   "outputs": [
    {
     "name": "stdout",
     "output_type": "stream",
     "text": [
      "Obtaining file:///C:/Users/alexa/Documents/MSDS/DS5100/MonteCarloSimulator\n",
      "Installing collected packages: MonteCarlo\n",
      "  Attempting uninstall: MonteCarlo\n",
      "    Found existing installation: montecarlo 0.1.17\n",
      "    Uninstalling montecarlo-0.1.17:\n",
      "      Successfully uninstalled montecarlo-0.1.17\n",
      "  Running setup.py develop for MonteCarlo\n",
      "Successfully installed MonteCarlo-0.1\n"
     ]
    }
   ],
   "source": [
    "!pip install -e ."
   ]
  }
 ],
 "metadata": {
  "kernelspec": {
   "display_name": "Python 3 (ipykernel)",
   "language": "python",
   "name": "python3"
  },
  "language_info": {
   "codemirror_mode": {
    "name": "ipython",
    "version": 3
   },
   "file_extension": ".py",
   "mimetype": "text/x-python",
   "name": "python",
   "nbconvert_exporter": "python",
   "pygments_lexer": "ipython3",
   "version": "3.9.12"
  },
  "widgets": {
   "application/vnd.jupyter.widget-state+json": {
    "state": {},
    "version_major": 2,
    "version_minor": 0
   }
  }
 },
 "nbformat": 4,
 "nbformat_minor": 5
}
